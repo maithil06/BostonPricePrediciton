{
  "nbformat": 4,
  "nbformat_minor": 0,
  "metadata": {
    "colab": {
      "name": "Boston Hosing Prediction",
      "provenance": [],
      "collapsed_sections": []
    },
    "kernelspec": {
      "name": "python3",
      "display_name": "Python 3"
    },
    "language_info": {
      "name": "python"
    }
  },
  "cells": [
    {
      "cell_type": "code",
      "execution_count": 1,
      "metadata": {
        "id": "ai7nuwnhvP-E"
      },
      "outputs": [],
      "source": [
        "import numpy as np\n",
        "import pandas as pd\n",
        "import seaborn as sns\n",
        "import matplotlib.pyplot as plt\n",
        "import matplotlib\n",
        "matplotlib.rcParams['figure.figsize'] = (12,8)\n",
        "import sklearn.datasets"
      ]
    },
    {
      "cell_type": "code",
      "source": [
        "data = sklearn.datasets.load_boston()"
      ],
      "metadata": {
        "colab": {
          "base_uri": "https://localhost:8080/"
        },
        "id": "-uhe6hWqvvOV",
        "outputId": "ab61f009-7687-485b-be0a-94e177f5d249"
      },
      "execution_count": 2,
      "outputs": [
        {
          "output_type": "stream",
          "name": "stderr",
          "text": [
            "/usr/local/lib/python3.7/dist-packages/sklearn/utils/deprecation.py:87: FutureWarning: Function load_boston is deprecated; `load_boston` is deprecated in 1.0 and will be removed in 1.2.\n",
            "\n",
            "    The Boston housing prices dataset has an ethical problem. You can refer to\n",
            "    the documentation of this function for further details.\n",
            "\n",
            "    The scikit-learn maintainers therefore strongly discourage the use of this\n",
            "    dataset unless the purpose of the code is to study and educate about\n",
            "    ethical issues in data science and machine learning.\n",
            "\n",
            "    In this special case, you can fetch the dataset from the original\n",
            "    source::\n",
            "\n",
            "        import pandas as pd\n",
            "        import numpy as np\n",
            "\n",
            "\n",
            "        data_url = \"http://lib.stat.cmu.edu/datasets/boston\"\n",
            "        raw_df = pd.read_csv(data_url, sep=\"\\s+\", skiprows=22, header=None)\n",
            "        data = np.hstack([raw_df.values[::2, :], raw_df.values[1::2, :2]])\n",
            "        target = raw_df.values[1::2, 2]\n",
            "\n",
            "    Alternative datasets include the California housing dataset (i.e.\n",
            "    :func:`~sklearn.datasets.fetch_california_housing`) and the Ames housing\n",
            "    dataset. You can load the datasets as follows::\n",
            "\n",
            "        from sklearn.datasets import fetch_california_housing\n",
            "        housing = fetch_california_housing()\n",
            "\n",
            "    for the California housing dataset and::\n",
            "\n",
            "        from sklearn.datasets import fetch_openml\n",
            "        housing = fetch_openml(name=\"house_prices\", as_frame=True)\n",
            "\n",
            "    for the Ames housing dataset.\n",
            "    \n",
            "  warnings.warn(msg, category=FutureWarning)\n"
          ]
        }
      ]
    },
    {
      "cell_type": "code",
      "source": [
        "df = pd.DataFrame(data.data, columns = data.feature_names)\n",
        "df['PRICE'] = data.target"
      ],
      "metadata": {
        "id": "xluvpePVv2Vz"
      },
      "execution_count": 3,
      "outputs": []
    },
    {
      "cell_type": "code",
      "source": [
        "df.head()"
      ],
      "metadata": {
        "colab": {
          "base_uri": "https://localhost:8080/",
          "height": 206
        },
        "id": "4tJBeUD4wCy-",
        "outputId": "1d839c6d-a88f-4b64-f7a5-bfe4dd90a824"
      },
      "execution_count": 4,
      "outputs": [
        {
          "output_type": "execute_result",
          "data": {
            "text/plain": [
              "      CRIM    ZN  INDUS  CHAS    NOX     RM   AGE     DIS  RAD    TAX  \\\n",
              "0  0.00632  18.0   2.31   0.0  0.538  6.575  65.2  4.0900  1.0  296.0   \n",
              "1  0.02731   0.0   7.07   0.0  0.469  6.421  78.9  4.9671  2.0  242.0   \n",
              "2  0.02729   0.0   7.07   0.0  0.469  7.185  61.1  4.9671  2.0  242.0   \n",
              "3  0.03237   0.0   2.18   0.0  0.458  6.998  45.8  6.0622  3.0  222.0   \n",
              "4  0.06905   0.0   2.18   0.0  0.458  7.147  54.2  6.0622  3.0  222.0   \n",
              "\n",
              "   PTRATIO       B  LSTAT  PRICE  \n",
              "0     15.3  396.90   4.98   24.0  \n",
              "1     17.8  396.90   9.14   21.6  \n",
              "2     17.8  392.83   4.03   34.7  \n",
              "3     18.7  394.63   2.94   33.4  \n",
              "4     18.7  396.90   5.33   36.2  "
            ],
            "text/html": [
              "\n",
              "  <div id=\"df-a1a133dc-4e13-49ce-9168-bea2fd8b4875\">\n",
              "    <div class=\"colab-df-container\">\n",
              "      <div>\n",
              "<style scoped>\n",
              "    .dataframe tbody tr th:only-of-type {\n",
              "        vertical-align: middle;\n",
              "    }\n",
              "\n",
              "    .dataframe tbody tr th {\n",
              "        vertical-align: top;\n",
              "    }\n",
              "\n",
              "    .dataframe thead th {\n",
              "        text-align: right;\n",
              "    }\n",
              "</style>\n",
              "<table border=\"1\" class=\"dataframe\">\n",
              "  <thead>\n",
              "    <tr style=\"text-align: right;\">\n",
              "      <th></th>\n",
              "      <th>CRIM</th>\n",
              "      <th>ZN</th>\n",
              "      <th>INDUS</th>\n",
              "      <th>CHAS</th>\n",
              "      <th>NOX</th>\n",
              "      <th>RM</th>\n",
              "      <th>AGE</th>\n",
              "      <th>DIS</th>\n",
              "      <th>RAD</th>\n",
              "      <th>TAX</th>\n",
              "      <th>PTRATIO</th>\n",
              "      <th>B</th>\n",
              "      <th>LSTAT</th>\n",
              "      <th>PRICE</th>\n",
              "    </tr>\n",
              "  </thead>\n",
              "  <tbody>\n",
              "    <tr>\n",
              "      <th>0</th>\n",
              "      <td>0.00632</td>\n",
              "      <td>18.0</td>\n",
              "      <td>2.31</td>\n",
              "      <td>0.0</td>\n",
              "      <td>0.538</td>\n",
              "      <td>6.575</td>\n",
              "      <td>65.2</td>\n",
              "      <td>4.0900</td>\n",
              "      <td>1.0</td>\n",
              "      <td>296.0</td>\n",
              "      <td>15.3</td>\n",
              "      <td>396.90</td>\n",
              "      <td>4.98</td>\n",
              "      <td>24.0</td>\n",
              "    </tr>\n",
              "    <tr>\n",
              "      <th>1</th>\n",
              "      <td>0.02731</td>\n",
              "      <td>0.0</td>\n",
              "      <td>7.07</td>\n",
              "      <td>0.0</td>\n",
              "      <td>0.469</td>\n",
              "      <td>6.421</td>\n",
              "      <td>78.9</td>\n",
              "      <td>4.9671</td>\n",
              "      <td>2.0</td>\n",
              "      <td>242.0</td>\n",
              "      <td>17.8</td>\n",
              "      <td>396.90</td>\n",
              "      <td>9.14</td>\n",
              "      <td>21.6</td>\n",
              "    </tr>\n",
              "    <tr>\n",
              "      <th>2</th>\n",
              "      <td>0.02729</td>\n",
              "      <td>0.0</td>\n",
              "      <td>7.07</td>\n",
              "      <td>0.0</td>\n",
              "      <td>0.469</td>\n",
              "      <td>7.185</td>\n",
              "      <td>61.1</td>\n",
              "      <td>4.9671</td>\n",
              "      <td>2.0</td>\n",
              "      <td>242.0</td>\n",
              "      <td>17.8</td>\n",
              "      <td>392.83</td>\n",
              "      <td>4.03</td>\n",
              "      <td>34.7</td>\n",
              "    </tr>\n",
              "    <tr>\n",
              "      <th>3</th>\n",
              "      <td>0.03237</td>\n",
              "      <td>0.0</td>\n",
              "      <td>2.18</td>\n",
              "      <td>0.0</td>\n",
              "      <td>0.458</td>\n",
              "      <td>6.998</td>\n",
              "      <td>45.8</td>\n",
              "      <td>6.0622</td>\n",
              "      <td>3.0</td>\n",
              "      <td>222.0</td>\n",
              "      <td>18.7</td>\n",
              "      <td>394.63</td>\n",
              "      <td>2.94</td>\n",
              "      <td>33.4</td>\n",
              "    </tr>\n",
              "    <tr>\n",
              "      <th>4</th>\n",
              "      <td>0.06905</td>\n",
              "      <td>0.0</td>\n",
              "      <td>2.18</td>\n",
              "      <td>0.0</td>\n",
              "      <td>0.458</td>\n",
              "      <td>7.147</td>\n",
              "      <td>54.2</td>\n",
              "      <td>6.0622</td>\n",
              "      <td>3.0</td>\n",
              "      <td>222.0</td>\n",
              "      <td>18.7</td>\n",
              "      <td>396.90</td>\n",
              "      <td>5.33</td>\n",
              "      <td>36.2</td>\n",
              "    </tr>\n",
              "  </tbody>\n",
              "</table>\n",
              "</div>\n",
              "      <button class=\"colab-df-convert\" onclick=\"convertToInteractive('df-a1a133dc-4e13-49ce-9168-bea2fd8b4875')\"\n",
              "              title=\"Convert this dataframe to an interactive table.\"\n",
              "              style=\"display:none;\">\n",
              "        \n",
              "  <svg xmlns=\"http://www.w3.org/2000/svg\" height=\"24px\"viewBox=\"0 0 24 24\"\n",
              "       width=\"24px\">\n",
              "    <path d=\"M0 0h24v24H0V0z\" fill=\"none\"/>\n",
              "    <path d=\"M18.56 5.44l.94 2.06.94-2.06 2.06-.94-2.06-.94-.94-2.06-.94 2.06-2.06.94zm-11 1L8.5 8.5l.94-2.06 2.06-.94-2.06-.94L8.5 2.5l-.94 2.06-2.06.94zm10 10l.94 2.06.94-2.06 2.06-.94-2.06-.94-.94-2.06-.94 2.06-2.06.94z\"/><path d=\"M17.41 7.96l-1.37-1.37c-.4-.4-.92-.59-1.43-.59-.52 0-1.04.2-1.43.59L10.3 9.45l-7.72 7.72c-.78.78-.78 2.05 0 2.83L4 21.41c.39.39.9.59 1.41.59.51 0 1.02-.2 1.41-.59l7.78-7.78 2.81-2.81c.8-.78.8-2.07 0-2.86zM5.41 20L4 18.59l7.72-7.72 1.47 1.35L5.41 20z\"/>\n",
              "  </svg>\n",
              "      </button>\n",
              "      \n",
              "  <style>\n",
              "    .colab-df-container {\n",
              "      display:flex;\n",
              "      flex-wrap:wrap;\n",
              "      gap: 12px;\n",
              "    }\n",
              "\n",
              "    .colab-df-convert {\n",
              "      background-color: #E8F0FE;\n",
              "      border: none;\n",
              "      border-radius: 50%;\n",
              "      cursor: pointer;\n",
              "      display: none;\n",
              "      fill: #1967D2;\n",
              "      height: 32px;\n",
              "      padding: 0 0 0 0;\n",
              "      width: 32px;\n",
              "    }\n",
              "\n",
              "    .colab-df-convert:hover {\n",
              "      background-color: #E2EBFA;\n",
              "      box-shadow: 0px 1px 2px rgba(60, 64, 67, 0.3), 0px 1px 3px 1px rgba(60, 64, 67, 0.15);\n",
              "      fill: #174EA6;\n",
              "    }\n",
              "\n",
              "    [theme=dark] .colab-df-convert {\n",
              "      background-color: #3B4455;\n",
              "      fill: #D2E3FC;\n",
              "    }\n",
              "\n",
              "    [theme=dark] .colab-df-convert:hover {\n",
              "      background-color: #434B5C;\n",
              "      box-shadow: 0px 1px 3px 1px rgba(0, 0, 0, 0.15);\n",
              "      filter: drop-shadow(0px 1px 2px rgba(0, 0, 0, 0.3));\n",
              "      fill: #FFFFFF;\n",
              "    }\n",
              "  </style>\n",
              "\n",
              "      <script>\n",
              "        const buttonEl =\n",
              "          document.querySelector('#df-a1a133dc-4e13-49ce-9168-bea2fd8b4875 button.colab-df-convert');\n",
              "        buttonEl.style.display =\n",
              "          google.colab.kernel.accessAllowed ? 'block' : 'none';\n",
              "\n",
              "        async function convertToInteractive(key) {\n",
              "          const element = document.querySelector('#df-a1a133dc-4e13-49ce-9168-bea2fd8b4875');\n",
              "          const dataTable =\n",
              "            await google.colab.kernel.invokeFunction('convertToInteractive',\n",
              "                                                     [key], {});\n",
              "          if (!dataTable) return;\n",
              "\n",
              "          const docLinkHtml = 'Like what you see? Visit the ' +\n",
              "            '<a target=\"_blank\" href=https://colab.research.google.com/notebooks/data_table.ipynb>data table notebook</a>'\n",
              "            + ' to learn more about interactive tables.';\n",
              "          element.innerHTML = '';\n",
              "          dataTable['output_type'] = 'display_data';\n",
              "          await google.colab.output.renderOutput(dataTable, element);\n",
              "          const docLink = document.createElement('div');\n",
              "          docLink.innerHTML = docLinkHtml;\n",
              "          element.appendChild(docLink);\n",
              "        }\n",
              "      </script>\n",
              "    </div>\n",
              "  </div>\n",
              "  "
            ]
          },
          "metadata": {},
          "execution_count": 4
        }
      ]
    },
    {
      "cell_type": "code",
      "source": [
        "df.info()"
      ],
      "metadata": {
        "colab": {
          "base_uri": "https://localhost:8080/"
        },
        "id": "0O0nJxuEwfhb",
        "outputId": "7a579069-5eda-4a18-ae48-7b078d0544e1"
      },
      "execution_count": 5,
      "outputs": [
        {
          "output_type": "stream",
          "name": "stdout",
          "text": [
            "<class 'pandas.core.frame.DataFrame'>\n",
            "RangeIndex: 506 entries, 0 to 505\n",
            "Data columns (total 14 columns):\n",
            " #   Column   Non-Null Count  Dtype  \n",
            "---  ------   --------------  -----  \n",
            " 0   CRIM     506 non-null    float64\n",
            " 1   ZN       506 non-null    float64\n",
            " 2   INDUS    506 non-null    float64\n",
            " 3   CHAS     506 non-null    float64\n",
            " 4   NOX      506 non-null    float64\n",
            " 5   RM       506 non-null    float64\n",
            " 6   AGE      506 non-null    float64\n",
            " 7   DIS      506 non-null    float64\n",
            " 8   RAD      506 non-null    float64\n",
            " 9   TAX      506 non-null    float64\n",
            " 10  PTRATIO  506 non-null    float64\n",
            " 11  B        506 non-null    float64\n",
            " 12  LSTAT    506 non-null    float64\n",
            " 13  PRICE    506 non-null    float64\n",
            "dtypes: float64(14)\n",
            "memory usage: 55.5 KB\n"
          ]
        }
      ]
    },
    {
      "cell_type": "code",
      "source": [
        "df.describe()"
      ],
      "metadata": {
        "colab": {
          "base_uri": "https://localhost:8080/",
          "height": 364
        },
        "id": "XiiBwapyww15",
        "outputId": "435513d4-3551-4a16-af5d-68896730a89a"
      },
      "execution_count": 6,
      "outputs": [
        {
          "output_type": "execute_result",
          "data": {
            "text/plain": [
              "             CRIM          ZN       INDUS        CHAS         NOX          RM  \\\n",
              "count  506.000000  506.000000  506.000000  506.000000  506.000000  506.000000   \n",
              "mean     3.613524   11.363636   11.136779    0.069170    0.554695    6.284634   \n",
              "std      8.601545   23.322453    6.860353    0.253994    0.115878    0.702617   \n",
              "min      0.006320    0.000000    0.460000    0.000000    0.385000    3.561000   \n",
              "25%      0.082045    0.000000    5.190000    0.000000    0.449000    5.885500   \n",
              "50%      0.256510    0.000000    9.690000    0.000000    0.538000    6.208500   \n",
              "75%      3.677083   12.500000   18.100000    0.000000    0.624000    6.623500   \n",
              "max     88.976200  100.000000   27.740000    1.000000    0.871000    8.780000   \n",
              "\n",
              "              AGE         DIS         RAD         TAX     PTRATIO           B  \\\n",
              "count  506.000000  506.000000  506.000000  506.000000  506.000000  506.000000   \n",
              "mean    68.574901    3.795043    9.549407  408.237154   18.455534  356.674032   \n",
              "std     28.148861    2.105710    8.707259  168.537116    2.164946   91.294864   \n",
              "min      2.900000    1.129600    1.000000  187.000000   12.600000    0.320000   \n",
              "25%     45.025000    2.100175    4.000000  279.000000   17.400000  375.377500   \n",
              "50%     77.500000    3.207450    5.000000  330.000000   19.050000  391.440000   \n",
              "75%     94.075000    5.188425   24.000000  666.000000   20.200000  396.225000   \n",
              "max    100.000000   12.126500   24.000000  711.000000   22.000000  396.900000   \n",
              "\n",
              "            LSTAT       PRICE  \n",
              "count  506.000000  506.000000  \n",
              "mean    12.653063   22.532806  \n",
              "std      7.141062    9.197104  \n",
              "min      1.730000    5.000000  \n",
              "25%      6.950000   17.025000  \n",
              "50%     11.360000   21.200000  \n",
              "75%     16.955000   25.000000  \n",
              "max     37.970000   50.000000  "
            ],
            "text/html": [
              "\n",
              "  <div id=\"df-7b7d3cb2-f2a9-4f5a-9496-9bcf789fa29a\">\n",
              "    <div class=\"colab-df-container\">\n",
              "      <div>\n",
              "<style scoped>\n",
              "    .dataframe tbody tr th:only-of-type {\n",
              "        vertical-align: middle;\n",
              "    }\n",
              "\n",
              "    .dataframe tbody tr th {\n",
              "        vertical-align: top;\n",
              "    }\n",
              "\n",
              "    .dataframe thead th {\n",
              "        text-align: right;\n",
              "    }\n",
              "</style>\n",
              "<table border=\"1\" class=\"dataframe\">\n",
              "  <thead>\n",
              "    <tr style=\"text-align: right;\">\n",
              "      <th></th>\n",
              "      <th>CRIM</th>\n",
              "      <th>ZN</th>\n",
              "      <th>INDUS</th>\n",
              "      <th>CHAS</th>\n",
              "      <th>NOX</th>\n",
              "      <th>RM</th>\n",
              "      <th>AGE</th>\n",
              "      <th>DIS</th>\n",
              "      <th>RAD</th>\n",
              "      <th>TAX</th>\n",
              "      <th>PTRATIO</th>\n",
              "      <th>B</th>\n",
              "      <th>LSTAT</th>\n",
              "      <th>PRICE</th>\n",
              "    </tr>\n",
              "  </thead>\n",
              "  <tbody>\n",
              "    <tr>\n",
              "      <th>count</th>\n",
              "      <td>506.000000</td>\n",
              "      <td>506.000000</td>\n",
              "      <td>506.000000</td>\n",
              "      <td>506.000000</td>\n",
              "      <td>506.000000</td>\n",
              "      <td>506.000000</td>\n",
              "      <td>506.000000</td>\n",
              "      <td>506.000000</td>\n",
              "      <td>506.000000</td>\n",
              "      <td>506.000000</td>\n",
              "      <td>506.000000</td>\n",
              "      <td>506.000000</td>\n",
              "      <td>506.000000</td>\n",
              "      <td>506.000000</td>\n",
              "    </tr>\n",
              "    <tr>\n",
              "      <th>mean</th>\n",
              "      <td>3.613524</td>\n",
              "      <td>11.363636</td>\n",
              "      <td>11.136779</td>\n",
              "      <td>0.069170</td>\n",
              "      <td>0.554695</td>\n",
              "      <td>6.284634</td>\n",
              "      <td>68.574901</td>\n",
              "      <td>3.795043</td>\n",
              "      <td>9.549407</td>\n",
              "      <td>408.237154</td>\n",
              "      <td>18.455534</td>\n",
              "      <td>356.674032</td>\n",
              "      <td>12.653063</td>\n",
              "      <td>22.532806</td>\n",
              "    </tr>\n",
              "    <tr>\n",
              "      <th>std</th>\n",
              "      <td>8.601545</td>\n",
              "      <td>23.322453</td>\n",
              "      <td>6.860353</td>\n",
              "      <td>0.253994</td>\n",
              "      <td>0.115878</td>\n",
              "      <td>0.702617</td>\n",
              "      <td>28.148861</td>\n",
              "      <td>2.105710</td>\n",
              "      <td>8.707259</td>\n",
              "      <td>168.537116</td>\n",
              "      <td>2.164946</td>\n",
              "      <td>91.294864</td>\n",
              "      <td>7.141062</td>\n",
              "      <td>9.197104</td>\n",
              "    </tr>\n",
              "    <tr>\n",
              "      <th>min</th>\n",
              "      <td>0.006320</td>\n",
              "      <td>0.000000</td>\n",
              "      <td>0.460000</td>\n",
              "      <td>0.000000</td>\n",
              "      <td>0.385000</td>\n",
              "      <td>3.561000</td>\n",
              "      <td>2.900000</td>\n",
              "      <td>1.129600</td>\n",
              "      <td>1.000000</td>\n",
              "      <td>187.000000</td>\n",
              "      <td>12.600000</td>\n",
              "      <td>0.320000</td>\n",
              "      <td>1.730000</td>\n",
              "      <td>5.000000</td>\n",
              "    </tr>\n",
              "    <tr>\n",
              "      <th>25%</th>\n",
              "      <td>0.082045</td>\n",
              "      <td>0.000000</td>\n",
              "      <td>5.190000</td>\n",
              "      <td>0.000000</td>\n",
              "      <td>0.449000</td>\n",
              "      <td>5.885500</td>\n",
              "      <td>45.025000</td>\n",
              "      <td>2.100175</td>\n",
              "      <td>4.000000</td>\n",
              "      <td>279.000000</td>\n",
              "      <td>17.400000</td>\n",
              "      <td>375.377500</td>\n",
              "      <td>6.950000</td>\n",
              "      <td>17.025000</td>\n",
              "    </tr>\n",
              "    <tr>\n",
              "      <th>50%</th>\n",
              "      <td>0.256510</td>\n",
              "      <td>0.000000</td>\n",
              "      <td>9.690000</td>\n",
              "      <td>0.000000</td>\n",
              "      <td>0.538000</td>\n",
              "      <td>6.208500</td>\n",
              "      <td>77.500000</td>\n",
              "      <td>3.207450</td>\n",
              "      <td>5.000000</td>\n",
              "      <td>330.000000</td>\n",
              "      <td>19.050000</td>\n",
              "      <td>391.440000</td>\n",
              "      <td>11.360000</td>\n",
              "      <td>21.200000</td>\n",
              "    </tr>\n",
              "    <tr>\n",
              "      <th>75%</th>\n",
              "      <td>3.677083</td>\n",
              "      <td>12.500000</td>\n",
              "      <td>18.100000</td>\n",
              "      <td>0.000000</td>\n",
              "      <td>0.624000</td>\n",
              "      <td>6.623500</td>\n",
              "      <td>94.075000</td>\n",
              "      <td>5.188425</td>\n",
              "      <td>24.000000</td>\n",
              "      <td>666.000000</td>\n",
              "      <td>20.200000</td>\n",
              "      <td>396.225000</td>\n",
              "      <td>16.955000</td>\n",
              "      <td>25.000000</td>\n",
              "    </tr>\n",
              "    <tr>\n",
              "      <th>max</th>\n",
              "      <td>88.976200</td>\n",
              "      <td>100.000000</td>\n",
              "      <td>27.740000</td>\n",
              "      <td>1.000000</td>\n",
              "      <td>0.871000</td>\n",
              "      <td>8.780000</td>\n",
              "      <td>100.000000</td>\n",
              "      <td>12.126500</td>\n",
              "      <td>24.000000</td>\n",
              "      <td>711.000000</td>\n",
              "      <td>22.000000</td>\n",
              "      <td>396.900000</td>\n",
              "      <td>37.970000</td>\n",
              "      <td>50.000000</td>\n",
              "    </tr>\n",
              "  </tbody>\n",
              "</table>\n",
              "</div>\n",
              "      <button class=\"colab-df-convert\" onclick=\"convertToInteractive('df-7b7d3cb2-f2a9-4f5a-9496-9bcf789fa29a')\"\n",
              "              title=\"Convert this dataframe to an interactive table.\"\n",
              "              style=\"display:none;\">\n",
              "        \n",
              "  <svg xmlns=\"http://www.w3.org/2000/svg\" height=\"24px\"viewBox=\"0 0 24 24\"\n",
              "       width=\"24px\">\n",
              "    <path d=\"M0 0h24v24H0V0z\" fill=\"none\"/>\n",
              "    <path d=\"M18.56 5.44l.94 2.06.94-2.06 2.06-.94-2.06-.94-.94-2.06-.94 2.06-2.06.94zm-11 1L8.5 8.5l.94-2.06 2.06-.94-2.06-.94L8.5 2.5l-.94 2.06-2.06.94zm10 10l.94 2.06.94-2.06 2.06-.94-2.06-.94-.94-2.06-.94 2.06-2.06.94z\"/><path d=\"M17.41 7.96l-1.37-1.37c-.4-.4-.92-.59-1.43-.59-.52 0-1.04.2-1.43.59L10.3 9.45l-7.72 7.72c-.78.78-.78 2.05 0 2.83L4 21.41c.39.39.9.59 1.41.59.51 0 1.02-.2 1.41-.59l7.78-7.78 2.81-2.81c.8-.78.8-2.07 0-2.86zM5.41 20L4 18.59l7.72-7.72 1.47 1.35L5.41 20z\"/>\n",
              "  </svg>\n",
              "      </button>\n",
              "      \n",
              "  <style>\n",
              "    .colab-df-container {\n",
              "      display:flex;\n",
              "      flex-wrap:wrap;\n",
              "      gap: 12px;\n",
              "    }\n",
              "\n",
              "    .colab-df-convert {\n",
              "      background-color: #E8F0FE;\n",
              "      border: none;\n",
              "      border-radius: 50%;\n",
              "      cursor: pointer;\n",
              "      display: none;\n",
              "      fill: #1967D2;\n",
              "      height: 32px;\n",
              "      padding: 0 0 0 0;\n",
              "      width: 32px;\n",
              "    }\n",
              "\n",
              "    .colab-df-convert:hover {\n",
              "      background-color: #E2EBFA;\n",
              "      box-shadow: 0px 1px 2px rgba(60, 64, 67, 0.3), 0px 1px 3px 1px rgba(60, 64, 67, 0.15);\n",
              "      fill: #174EA6;\n",
              "    }\n",
              "\n",
              "    [theme=dark] .colab-df-convert {\n",
              "      background-color: #3B4455;\n",
              "      fill: #D2E3FC;\n",
              "    }\n",
              "\n",
              "    [theme=dark] .colab-df-convert:hover {\n",
              "      background-color: #434B5C;\n",
              "      box-shadow: 0px 1px 3px 1px rgba(0, 0, 0, 0.15);\n",
              "      filter: drop-shadow(0px 1px 2px rgba(0, 0, 0, 0.3));\n",
              "      fill: #FFFFFF;\n",
              "    }\n",
              "  </style>\n",
              "\n",
              "      <script>\n",
              "        const buttonEl =\n",
              "          document.querySelector('#df-7b7d3cb2-f2a9-4f5a-9496-9bcf789fa29a button.colab-df-convert');\n",
              "        buttonEl.style.display =\n",
              "          google.colab.kernel.accessAllowed ? 'block' : 'none';\n",
              "\n",
              "        async function convertToInteractive(key) {\n",
              "          const element = document.querySelector('#df-7b7d3cb2-f2a9-4f5a-9496-9bcf789fa29a');\n",
              "          const dataTable =\n",
              "            await google.colab.kernel.invokeFunction('convertToInteractive',\n",
              "                                                     [key], {});\n",
              "          if (!dataTable) return;\n",
              "\n",
              "          const docLinkHtml = 'Like what you see? Visit the ' +\n",
              "            '<a target=\"_blank\" href=https://colab.research.google.com/notebooks/data_table.ipynb>data table notebook</a>'\n",
              "            + ' to learn more about interactive tables.';\n",
              "          element.innerHTML = '';\n",
              "          dataTable['output_type'] = 'display_data';\n",
              "          await google.colab.output.renderOutput(dataTable, element);\n",
              "          const docLink = document.createElement('div');\n",
              "          docLink.innerHTML = docLinkHtml;\n",
              "          element.appendChild(docLink);\n",
              "        }\n",
              "      </script>\n",
              "    </div>\n",
              "  </div>\n",
              "  "
            ]
          },
          "metadata": {},
          "execution_count": 6
        }
      ]
    },
    {
      "cell_type": "code",
      "source": [
        "df.isnull().sum()"
      ],
      "metadata": {
        "colab": {
          "base_uri": "https://localhost:8080/"
        },
        "id": "B0YuJoKQwyMD",
        "outputId": "ae443264-d5f9-46e3-d4d1-7586c05a2469"
      },
      "execution_count": 7,
      "outputs": [
        {
          "output_type": "execute_result",
          "data": {
            "text/plain": [
              "CRIM       0\n",
              "ZN         0\n",
              "INDUS      0\n",
              "CHAS       0\n",
              "NOX        0\n",
              "RM         0\n",
              "AGE        0\n",
              "DIS        0\n",
              "RAD        0\n",
              "TAX        0\n",
              "PTRATIO    0\n",
              "B          0\n",
              "LSTAT      0\n",
              "PRICE      0\n",
              "dtype: int64"
            ]
          },
          "metadata": {},
          "execution_count": 7
        }
      ]
    },
    {
      "cell_type": "markdown",
      "source": [
        "We can already see that out data is a cleaned and preprocessed. We just need to go forward with exploratory Data Analysis"
      ],
      "metadata": {
        "id": "IZVg3rudwzvR"
      }
    },
    {
      "cell_type": "code",
      "source": [
        "sns.heatmap(df.corr(), annot = True)"
      ],
      "metadata": {
        "colab": {
          "base_uri": "https://localhost:8080/",
          "height": 318
        },
        "id": "su3dqO7BzF1W",
        "outputId": "55a8f225-6242-446b-fe5a-fca148abf1c3"
      },
      "execution_count": 8,
      "outputs": [
        {
          "output_type": "execute_result",
          "data": {
            "text/plain": [
              "<matplotlib.axes._subplots.AxesSubplot at 0x7f5215475e10>"
            ]
          },
          "metadata": {},
          "execution_count": 8
        },
        {
          "output_type": "display_data",
          "data": {
            "text/plain": [
              "<Figure size 432x288 with 2 Axes>"
            ],
            "image/png": "[encoded data removed]"
          },
          "metadata": {
            "needs_background": "light"
          }
        }
      ]
    },
    {
      "cell_type": "markdown",
      "source": [
        "**NOTE:** We can drop TAX or RAD columns as they are highly correlated around 91%. Dropping a feature can reduce dimensionality and also reduces the calculation time and would give a good accuracy."
      ],
      "metadata": {
        "id": "dVfJTOkOzpZC"
      }
    },
    {
      "cell_type": "code",
      "source": [
        "X = df.drop('PRICE', axis=1)\n",
        "y = df['PRICE']"
      ],
      "metadata": {
        "id": "WoujeByqzR7O"
      },
      "execution_count": 9,
      "outputs": []
    },
    {
      "cell_type": "code",
      "source": [
        "from sklearn.model_selection import train_test_split\n",
        "\n",
        "X_train, X_test, y_train, y_test = train_test_split(X, y, test_size = 0.2)"
      ],
      "metadata": {
        "id": "u3KiEPCs2HWx"
      },
      "execution_count": 10,
      "outputs": []
    },
    {
      "cell_type": "code",
      "source": [
        "from sklearn.linear_model import LinearRegression\n",
        "\n",
        "LR = LinearRegression()\n",
        "LR.fit(X_train, y_train)\n",
        "pred1 = LR.predict(X_test)"
      ],
      "metadata": {
        "id": "gN8l7MeK0eoH"
      },
      "execution_count": 11,
      "outputs": []
    },
    {
      "cell_type": "code",
      "source": [
        "pred1"
      ],
      "metadata": {
        "colab": {
          "base_uri": "https://localhost:8080/"
        },
        "id": "8C6lK_mv3GoS",
        "outputId": "d835e258-7c1c-4a6b-9e2f-360fc251b73d"
      },
      "execution_count": 12,
      "outputs": [
        {
          "output_type": "execute_result",
          "data": {
            "text/plain": [
              "array([20.78865257, 15.74331166, 13.96645268, 38.27603096, 21.67740841,\n",
              "       16.75173116, 30.28093113, 22.08239493, 19.53174377, 27.62649219,\n",
              "       23.2685226 , 29.40991468, 18.66108541,  8.40563533, 13.05695767,\n",
              "        6.25806471, 21.65519221, 32.85483739, 34.25970015, 34.59108725,\n",
              "       19.73026851, 18.03397528, 31.76154637, 19.50746828, 14.8526043 ,\n",
              "       22.46352588, 13.27329032,  0.14622833, 15.46001466, 26.11116022,\n",
              "       31.58775253, 36.49280386, 23.34107591, 20.27280388, 24.0099209 ,\n",
              "       20.90974957,  7.17540821, 42.0798976 , 17.17607331, 13.52987906,\n",
              "       23.18870469, 16.67234576, 28.64476211, 22.95385983, 27.59448344,\n",
              "       13.03509728, 22.94317586, 19.68090488, 15.48307971, 15.72604129,\n",
              "       19.98802018, 14.06398363, 23.90242389, 28.46043967, 28.68596913,\n",
              "       19.87998891, 18.19704878, 16.73122516, 34.30786709, 17.75449737,\n",
              "       20.22639744, 28.7862824 , 34.87630428,  8.56972492, 19.62264776,\n",
              "       23.92228874, 33.72690307, 22.3000538 , 24.71485669, 21.95323779,\n",
              "       24.41635724, 27.28598378, 23.30025581, 19.12674694, 16.88594874,\n",
              "       22.83475874, 17.61393413, 25.5391781 , 19.197266  , 24.68355154,\n",
              "       23.77441253, 25.73458237, -6.18633284, 17.26885782,  7.66374089,\n",
              "       19.53156238, 21.21357146, 24.85612129, 32.97388357, 16.46630324,\n",
              "       15.96851664, 24.48083036, 24.36384527, 16.29569341, 24.22011474,\n",
              "       22.86132724, 27.40582146, 23.73412833, 17.49872847, 11.72695856,\n",
              "       25.22134727,  6.86444829])"
            ]
          },
          "metadata": {},
          "execution_count": 12
        }
      ]
    },
    {
      "cell_type": "code",
      "source": [
        "from sklearn.metrics import r2_score\n",
        "from sklearn.metrics import mean_absolute_error\n",
        "\n",
        "Scorer1 = r2_score(y_test, pred1)\n",
        "Scorem1 = mean_absolute_error(y_test, pred1)\n",
        "Scorer1, Scorem1"
      ],
      "metadata": {
        "colab": {
          "base_uri": "https://localhost:8080/"
        },
        "id": "8_I4BePR3HmK",
        "outputId": "11bd596e-f5a5-4a05-a47e-4f8c30a93e93"
      },
      "execution_count": 15,
      "outputs": [
        {
          "output_type": "execute_result",
          "data": {
            "text/plain": [
              "(0.666582940889166, 3.3464664160207818)"
            ]
          },
          "metadata": {},
          "execution_count": 15
        }
      ]
    },
    {
      "cell_type": "code",
      "source": [
        "sns.regplot(x =y_test,y=pred1)"
      ],
      "metadata": {
        "colab": {
          "base_uri": "https://localhost:8080/",
          "height": 296
        },
        "id": "gGyqzt4U3Zr3",
        "outputId": "f99ba35b-f0f9-4bca-a212-38bbc38abf52"
      },
      "execution_count": 18,
      "outputs": [
        {
          "output_type": "execute_result",
          "data": {
            "text/plain": [
              "<matplotlib.axes._subplots.AxesSubplot at 0x7f520ddeb290>"
            ]
          },
          "metadata": {},
          "execution_count": 18
        },
        {
          "output_type": "display_data",
          "data": {
            "text/plain": [
              "<Figure size 432x288 with 1 Axes>"
            ],
            "image/png": "[encoded data removed]"
          },
          "metadata": {
            "needs_background": "light"
          }
        }
      ]
    },
    {
      "cell_type": "code",
      "source": [
        "from sklearn.linear_model import Ridge\n",
        "\n",
        "def ridge(C,solver):\n",
        "  ridge = Ridge(alpha = C, solver = solver)\n",
        "  ridge.fit(X_train, y_train)\n",
        "  y_pred = ridge.predict(X_test)\n",
        "\n",
        "  R2Score = r2_score(y_test, y_pred)\n",
        "  MAE = mean_absolute_error(y_test, y_pred)\n",
        "  print(R2Score)\n",
        "  print(MAE)"
      ],
      "metadata": {
        "id": "wkrdPvAm4RFu"
      },
      "execution_count": 32,
      "outputs": []
    },
    {
      "cell_type": "code",
      "source": [
        "pred1 = ridge(1,'auto')"
      ],
      "metadata": {
        "colab": {
          "base_uri": "https://localhost:8080/"
        },
        "id": "5QQjnRnJ5Y9n",
        "outputId": "a6c971c8-0ced-4a31-c91b-beed8d30b74d"
      },
      "execution_count": 33,
      "outputs": [
        {
          "output_type": "stream",
          "name": "stdout",
          "text": [
            "0.6619613070040706\n",
            "3.330766470166291\n"
          ]
        }
      ]
    },
    {
      "cell_type": "code",
      "source": [
        "pred1 = ridge(0.5,'auto')"
      ],
      "metadata": {
        "colab": {
          "base_uri": "https://localhost:8080/"
        },
        "id": "eGzLGJHt7ae2",
        "outputId": "6675e59a-abc7-40ed-ee45-e64068e20f7c"
      },
      "execution_count": 38,
      "outputs": [
        {
          "output_type": "stream",
          "name": "stdout",
          "text": [
            "0.6644233422502934\n",
            "3.3290106350056963\n"
          ]
        }
      ]
    },
    {
      "cell_type": "code",
      "source": [
        "def metrics(y_test,y_pred):\n",
        "  R2Score = r2_score(y_test, y_pred)\n",
        "  MAE = mean_absolute_error(y_test, y_pred)\n",
        "  print(R2Score)\n",
        "  print(MAE)"
      ],
      "metadata": {
        "id": "fUNVj8pk9S_-"
      },
      "execution_count": 46,
      "outputs": []
    },
    {
      "cell_type": "code",
      "source": [
        "from sklearn.model_selection import GridSearchCV\n",
        "\n",
        "model1 = Ridge()\n",
        "parameters = {'alpha':[0.1,0.5,1],\n",
        "              'solver':['auto', 'svd', 'cholesky', 'lsqr', 'sparse_cg', 'sag', 'saga', 'lbfgs']}\n",
        "model1 = GridSearchCV(model1, parameters, verbose = 4, cv = 5)"
      ],
      "metadata": {
        "id": "TXcxPhSo7jXC"
      },
      "execution_count": 40,
      "outputs": []
    },
    {
      "cell_type": "code",
      "source": [
        "model1.fit(X_train, y_train)"
      ],
      "metadata": {
        "colab": {
          "base_uri": "https://localhost:8080/"
        },
        "id": "aiqcJyxZ7sOM",
        "outputId": "e15ca2c5-9c58-4455-bc81-2b6c1595cdcc"
      },
      "execution_count": 41,
      "outputs": [
        {
          "output_type": "stream",
          "name": "stdout",
          "text": [
            "Fitting 5 folds for each of 24 candidates, totalling 120 fits\n",
            "[CV 1/5] END ............alpha=0.1, solver=auto;, score=0.790 total time=   0.0s\n",
            "[CV 2/5] END ............alpha=0.1, solver=auto;, score=0.760 total time=   0.0s\n",
            "[CV 3/5] END ............alpha=0.1, solver=auto;, score=0.743 total time=   0.0s\n",
            "[CV 4/5] END ............alpha=0.1, solver=auto;, score=0.443 total time=   0.0s\n",
            "[CV 5/5] END ............alpha=0.1, solver=auto;, score=0.722 total time=   0.0s\n",
            "[CV 1/5] END .............alpha=0.1, solver=svd;, score=0.790 total time=   0.0s\n",
            "[CV 2/5] END .............alpha=0.1, solver=svd;, score=0.760 total time=   0.0s\n",
            "[CV 3/5] END .............alpha=0.1, solver=svd;, score=0.743 total time=   0.0s\n",
            "[CV 4/5] END .............alpha=0.1, solver=svd;, score=0.443 total time=   0.0s\n",
            "[CV 5/5] END .............alpha=0.1, solver=svd;, score=0.722 total time=   0.0s\n",
            "[CV 1/5] END ........alpha=0.1, solver=cholesky;, score=0.790 total time=   0.0s\n",
            "[CV 2/5] END ........alpha=0.1, solver=cholesky;, score=0.760 total time=   0.0s\n",
            "[CV 3/5] END ........alpha=0.1, solver=cholesky;, score=0.743 total time=   0.0s\n",
            "[CV 4/5] END ........alpha=0.1, solver=cholesky;, score=0.443 total time=   0.0s\n",
            "[CV 5/5] END ........alpha=0.1, solver=cholesky;, score=0.722 total time=   0.0s\n",
            "[CV 1/5] END ............alpha=0.1, solver=lsqr;, score=0.741 total time=   0.0s\n",
            "[CV 2/5] END ............alpha=0.1, solver=lsqr;, score=0.695 total time=   0.0s\n",
            "[CV 3/5] END ............alpha=0.1, solver=lsqr;, score=0.671 total time=   0.0s\n",
            "[CV 4/5] END ............alpha=0.1, solver=lsqr;, score=0.492 total time=   0.0s\n",
            "[CV 5/5] END ............alpha=0.1, solver=lsqr;, score=0.713 total time=   0.0s\n",
            "[CV 1/5] END .......alpha=0.1, solver=sparse_cg;, score=0.741 total time=   0.0s\n",
            "[CV 2/5] END .......alpha=0.1, solver=sparse_cg;, score=0.723 total time=   0.0s\n",
            "[CV 3/5] END .......alpha=0.1, solver=sparse_cg;, score=0.712 total time=   0.0s\n",
            "[CV 4/5] END .......alpha=0.1, solver=sparse_cg;, score=0.433 total time=   0.0s\n",
            "[CV 5/5] END .......alpha=0.1, solver=sparse_cg;, score=0.730 total time=   0.0s\n",
            "[CV 1/5] END .............alpha=0.1, solver=sag;, score=0.745 total time=   0.1s\n",
            "[CV 2/5] END .............alpha=0.1, solver=sag;, score=0.707 total time=   0.1s\n",
            "[CV 3/5] END .............alpha=0.1, solver=sag;, score=0.683 total time=   0.1s\n",
            "[CV 4/5] END .............alpha=0.1, solver=sag;, score=0.519 total time=   0.2s\n",
            "[CV 5/5] END .............alpha=0.1, solver=sag;, score=0.719 total time=   0.1s\n",
            "[CV 1/5] END ............alpha=0.1, solver=saga;, score=0.729 total time=   0.1s\n",
            "[CV 2/5] END ............alpha=0.1, solver=saga;, score=0.694 total time=   0.1s\n",
            "[CV 3/5] END ............alpha=0.1, solver=saga;, score=0.649 total time=   0.0s\n",
            "[CV 4/5] END ............alpha=0.1, solver=saga;, score=0.511 total time=   0.1s\n",
            "[CV 5/5] END ............alpha=0.1, solver=saga;, score=0.693 total time=   0.1s\n",
            "[CV 1/5] END .............alpha=0.1, solver=lbfgs;, score=nan total time=   0.0s\n",
            "[CV 2/5] END .............alpha=0.1, solver=lbfgs;, score=nan total time=   0.0s\n",
            "[CV 3/5] END .............alpha=0.1, solver=lbfgs;, score=nan total time=   0.0s\n",
            "[CV 4/5] END .............alpha=0.1, solver=lbfgs;, score=nan total time=   0.0s\n",
            "[CV 5/5] END .............alpha=0.1, solver=lbfgs;, score=nan total time=   0.0s\n",
            "[CV 1/5] END ............alpha=0.5, solver=auto;, score=0.790 total time=   0.0s\n",
            "[CV 2/5] END ............alpha=0.5, solver=auto;, score=0.758 total time=   0.0s\n",
            "[CV 3/5] END ............alpha=0.5, solver=auto;, score=0.740 total time=   0.0s\n",
            "[CV 4/5] END ............alpha=0.5, solver=auto;, score=0.445 total time=   0.0s\n",
            "[CV 5/5] END ............alpha=0.5, solver=auto;, score=0.720 total time=   0.0s\n",
            "[CV 1/5] END .............alpha=0.5, solver=svd;, score=0.790 total time=   0.0s\n",
            "[CV 2/5] END .............alpha=0.5, solver=svd;, score=0.758 total time=   0.0s\n",
            "[CV 3/5] END .............alpha=0.5, solver=svd;, score=0.740 total time=   0.0s\n",
            "[CV 4/5] END .............alpha=0.5, solver=svd;, score=0.445 total time=   0.0s\n",
            "[CV 5/5] END .............alpha=0.5, solver=svd;, score=0.720 total time=   0.0s\n",
            "[CV 1/5] END ........alpha=0.5, solver=cholesky;, score=0.790 total time=   0.0s\n",
            "[CV 2/5] END ........alpha=0.5, solver=cholesky;, score=0.758 total time=   0.0s\n",
            "[CV 3/5] END ........alpha=0.5, solver=cholesky;, score=0.740 total time=   0.0s\n",
            "[CV 4/5] END ........alpha=0.5, solver=cholesky;, score=0.445 total time=   0.0s\n",
            "[CV 5/5] END ........alpha=0.5, solver=cholesky;, score=0.720 total time=   0.0s\n",
            "[CV 1/5] END ............alpha=0.5, solver=lsqr;, score=0.741 total time=   0.0s\n",
            "[CV 2/5] END ............alpha=0.5, solver=lsqr;, score=0.695 total time=   0.0s\n",
            "[CV 3/5] END ............alpha=0.5, solver=lsqr;, score=0.671 total time=   0.0s\n",
            "[CV 4/5] END ............alpha=0.5, solver=lsqr;, score=0.492 total time=   0.0s\n",
            "[CV 5/5] END ............alpha=0.5, solver=lsqr;, score=0.713 total time=   0.0s\n",
            "[CV 1/5] END .......alpha=0.5, solver=sparse_cg;, score=0.741 total time=   0.0s\n",
            "[CV 2/5] END .......alpha=0.5, solver=sparse_cg;, score=0.723 total time=   0.0s\n",
            "[CV 3/5] END .......alpha=0.5, solver=sparse_cg;, score=0.712 total time=   0.0s\n",
            "[CV 4/5] END .......alpha=0.5, solver=sparse_cg;, score=0.434 total time=   0.0s\n",
            "[CV 5/5] END .......alpha=0.5, solver=sparse_cg;, score=0.730 total time=   0.0s\n",
            "[CV 1/5] END .............alpha=0.5, solver=sag;, score=0.745 total time=   0.1s\n",
            "[CV 2/5] END .............alpha=0.5, solver=sag;, score=0.707 total time=   0.1s\n",
            "[CV 3/5] END .............alpha=0.5, solver=sag;, score=0.683 total time=   0.1s\n",
            "[CV 4/5] END .............alpha=0.5, solver=sag;, score=0.519 total time=   0.1s\n",
            "[CV 5/5] END .............alpha=0.5, solver=sag;, score=0.719 total time=   0.1s\n",
            "[CV 1/5] END ............alpha=0.5, solver=saga;, score=0.729 total time=   0.1s\n",
            "[CV 2/5] END ............alpha=0.5, solver=saga;, score=0.694 total time=   0.1s\n",
            "[CV 3/5] END ............alpha=0.5, solver=saga;, score=0.649 total time=   0.1s\n",
            "[CV 4/5] END ............alpha=0.5, solver=saga;, score=0.511 total time=   0.1s\n",
            "[CV 5/5] END ............alpha=0.5, solver=saga;, score=0.693 total time=   0.1s\n",
            "[CV 1/5] END .............alpha=0.5, solver=lbfgs;, score=nan total time=   0.0s\n",
            "[CV 2/5] END .............alpha=0.5, solver=lbfgs;, score=nan total time=   0.0s\n",
            "[CV 3/5] END .............alpha=0.5, solver=lbfgs;, score=nan total time=   0.0s\n",
            "[CV 4/5] END .............alpha=0.5, solver=lbfgs;, score=nan total time=   0.0s\n",
            "[CV 5/5] END .............alpha=0.5, solver=lbfgs;, score=nan total time=   0.0s\n",
            "[CV 1/5] END ..............alpha=1, solver=auto;, score=0.789 total time=   0.0s\n",
            "[CV 2/5] END ..............alpha=1, solver=auto;, score=0.756 total time=   0.0s\n",
            "[CV 3/5] END ..............alpha=1, solver=auto;, score=0.737 total time=   0.0s\n",
            "[CV 4/5] END ..............alpha=1, solver=auto;, score=0.447 total time=   0.0s\n",
            "[CV 5/5] END ..............alpha=1, solver=auto;, score=0.719 total time=   0.0s\n",
            "[CV 1/5] END ...............alpha=1, solver=svd;, score=0.789 total time=   0.0s\n",
            "[CV 2/5] END ...............alpha=1, solver=svd;, score=0.756 total time=   0.0s\n",
            "[CV 3/5] END ...............alpha=1, solver=svd;, score=0.737 total time=   0.0s\n",
            "[CV 4/5] END ...............alpha=1, solver=svd;, score=0.447 total time=   0.0s\n",
            "[CV 5/5] END ...............alpha=1, solver=svd;, score=0.719 total time=   0.0s\n",
            "[CV 1/5] END ..........alpha=1, solver=cholesky;, score=0.789 total time=   0.0s\n",
            "[CV 2/5] END ..........alpha=1, solver=cholesky;, score=0.756 total time=   0.0s\n",
            "[CV 3/5] END ..........alpha=1, solver=cholesky;, score=0.737 total time=   0.0s\n",
            "[CV 4/5] END ..........alpha=1, solver=cholesky;, score=0.447 total time=   0.0s\n",
            "[CV 5/5] END ..........alpha=1, solver=cholesky;, score=0.719 total time=   0.0s\n",
            "[CV 1/5] END ..............alpha=1, solver=lsqr;, score=0.741 total time=   0.0s\n",
            "[CV 2/5] END ..............alpha=1, solver=lsqr;, score=0.696 total time=   0.0s\n",
            "[CV 3/5] END ..............alpha=1, solver=lsqr;, score=0.671 total time=   0.0s\n",
            "[CV 4/5] END ..............alpha=1, solver=lsqr;, score=0.492 total time=   0.0s\n",
            "[CV 5/5] END ..............alpha=1, solver=lsqr;, score=0.713 total time=   0.0s\n",
            "[CV 1/5] END .........alpha=1, solver=sparse_cg;, score=0.741 total time=   0.0s\n",
            "[CV 2/5] END .........alpha=1, solver=sparse_cg;, score=0.722 total time=   0.0s\n",
            "[CV 3/5] END .........alpha=1, solver=sparse_cg;, score=0.712 total time=   0.0s\n",
            "[CV 4/5] END .........alpha=1, solver=sparse_cg;, score=0.435 total time=   0.0s\n",
            "[CV 5/5] END .........alpha=1, solver=sparse_cg;, score=0.730 total time=   0.0s\n",
            "[CV 1/5] END ...............alpha=1, solver=sag;, score=0.745 total time=   0.1s\n",
            "[CV 2/5] END ...............alpha=1, solver=sag;, score=0.706 total time=   0.1s\n",
            "[CV 3/5] END ...............alpha=1, solver=sag;, score=0.683 total time=   0.1s\n",
            "[CV 4/5] END ...............alpha=1, solver=sag;, score=0.520 total time=   0.1s\n",
            "[CV 5/5] END ...............alpha=1, solver=sag;, score=0.719 total time=   0.1s\n",
            "[CV 1/5] END ..............alpha=1, solver=saga;, score=0.729 total time=   0.1s\n",
            "[CV 2/5] END ..............alpha=1, solver=saga;, score=0.694 total time=   0.1s\n",
            "[CV 3/5] END ..............alpha=1, solver=saga;, score=0.649 total time=   0.0s\n",
            "[CV 4/5] END ..............alpha=1, solver=saga;, score=0.511 total time=   0.1s\n",
            "[CV 5/5] END ..............alpha=1, solver=saga;, score=0.693 total time=   0.1s\n",
            "[CV 1/5] END ...............alpha=1, solver=lbfgs;, score=nan total time=   0.0s\n",
            "[CV 2/5] END ...............alpha=1, solver=lbfgs;, score=nan total time=   0.0s\n",
            "[CV 3/5] END ...............alpha=1, solver=lbfgs;, score=nan total time=   0.0s\n",
            "[CV 4/5] END ...............alpha=1, solver=lbfgs;, score=nan total time=   0.0s\n",
            "[CV 5/5] END ...............alpha=1, solver=lbfgs;, score=nan total time=   0.0s\n"
          ]
        },
        {
          "output_type": "stream",
          "name": "stderr",
          "text": [
            "/usr/local/lib/python3.7/dist-packages/sklearn/model_selection/_validation.py:372: FitFailedWarning: \n",
            "15 fits failed out of a total of 120.\n",
            "The score on these train-test partitions for these parameters will be set to nan.\n",
            "If these failures are not expected, you can try to debug them by setting error_score='raise'.\n",
            "\n",
            "Below are more details about the failures:\n",
            "--------------------------------------------------------------------------------\n",
            "15 fits failed with the following error:\n",
            "Traceback (most recent call last):\n",
            "  File \"/usr/local/lib/python3.7/dist-packages/sklearn/model_selection/_validation.py\", line 680, in _fit_and_score\n",
            "    estimator.fit(X_train, y_train, **fit_params)\n",
            "  File \"/usr/local/lib/python3.7/dist-packages/sklearn/linear_model/_ridge.py\", line 1011, in fit\n",
            "    return super().fit(X, y, sample_weight=sample_weight)\n",
            "  File \"/usr/local/lib/python3.7/dist-packages/sklearn/linear_model/_ridge.py\", line 706, in fit\n",
            "    \"'lbfgs' solver can be used only when positive=True. \"\n",
            "ValueError: 'lbfgs' solver can be used only when positive=True. Please use another solver.\n",
            "\n",
            "  warnings.warn(some_fits_failed_message, FitFailedWarning)\n",
            "/usr/local/lib/python3.7/dist-packages/sklearn/model_selection/_search.py:972: UserWarning: One or more of the test scores are non-finite: [0.69148791 0.69148791 0.69148791 0.66253638 0.66753006 0.67462913\n",
            " 0.65529479        nan 0.69074662 0.69074662 0.69074662 0.6625863\n",
            " 0.66772219 0.67461296 0.6552882         nan 0.68944027 0.68944027\n",
            " 0.68944027 0.66264814 0.66795688 0.67458771 0.6552462         nan]\n",
            "  category=UserWarning,\n"
          ]
        },
        {
          "output_type": "execute_result",
          "data": {
            "text/plain": [
              "GridSearchCV(cv=5, estimator=Ridge(),\n",
              "             param_grid={'alpha': [0.1, 0.5, 1],\n",
              "                         'solver': ['auto', 'svd', 'cholesky', 'lsqr',\n",
              "                                    'sparse_cg', 'sag', 'saga', 'lbfgs']},\n",
              "             verbose=4)"
            ]
          },
          "metadata": {},
          "execution_count": 41
        }
      ]
    },
    {
      "cell_type": "code",
      "source": [
        "model1.best_params_, model1.best_score_"
      ],
      "metadata": {
        "colab": {
          "base_uri": "https://localhost:8080/"
        },
        "id": "Kme_UpVe8PKQ",
        "outputId": "dc65b74b-2168-49f6-b704-aa8f6b22c162"
      },
      "execution_count": 45,
      "outputs": [
        {
          "output_type": "execute_result",
          "data": {
            "text/plain": [
              "({'alpha': 0.1, 'solver': 'svd'}, 0.6914879051434059)"
            ]
          },
          "metadata": {},
          "execution_count": 45
        }
      ]
    },
    {
      "cell_type": "code",
      "source": [
        "ridge = Ridge(alpha = 0.1, solver = 'svd')\n",
        "ridge.fit(X_train, y_train)\n",
        "pred2 = ridge.predict(X_test)\n",
        "pred2"
      ],
      "metadata": {
        "colab": {
          "base_uri": "https://localhost:8080/"
        },
        "id": "8zt46DoY8b_g",
        "outputId": "136d09ca-6dde-46df-8402-051316ed02ee"
      },
      "execution_count": 47,
      "outputs": [
        {
          "output_type": "execute_result",
          "data": {
            "text/plain": [
              "array([20.71955842, 15.60505978, 14.17162973, 38.2359086 , 21.75012568,\n",
              "       16.80032192, 30.29037997, 22.13870439, 19.59177666, 27.67342582,\n",
              "       23.15416844, 29.29679082, 18.76055401,  8.62091922, 13.06385317,\n",
              "        6.25365233, 21.57889638, 32.86005026, 34.22077339, 34.57510123,\n",
              "       19.69750895, 18.06748441, 31.74122975, 19.52631701, 14.87212748,\n",
              "       22.36894226, 13.35281121, -0.04559274, 15.46655407, 26.11428179,\n",
              "       31.55477756, 36.43087528, 23.42336567, 20.29024278, 24.01123145,\n",
              "       20.94449306,  7.20310182, 42.02963445, 17.22102574, 13.55580662,\n",
              "       23.17890643, 16.60796788, 28.72197043, 23.00226494, 27.5356522 ,\n",
              "       13.06943224, 22.97435013, 19.67443037, 15.47258589, 15.56946984,\n",
              "       20.15317995, 14.0874079 , 23.8001441 , 28.51964438, 28.64357673,\n",
              "       20.01782472, 18.21036275, 16.69213626, 34.27414197, 17.79469819,\n",
              "       20.19554165, 28.88065325, 34.80445393,  8.5386256 , 19.54803465,\n",
              "       23.84041712, 33.62959123, 22.29173091, 24.71429314, 21.93715954,\n",
              "       24.43750126, 27.24316334, 23.25880973, 18.99119464, 16.89763611,\n",
              "       22.90424984, 17.46447155, 25.59160027, 19.24525381, 24.68208628,\n",
              "       23.78250231, 25.74878088, -6.22671489, 17.28494265,  7.66542347,\n",
              "       19.67452706, 21.3527525 , 24.88457972, 32.94646124, 16.34184161,\n",
              "       15.98203819, 24.44239756, 24.32451178, 16.32195952, 24.18046393,\n",
              "       22.78524966, 27.29899626, 23.71198689, 17.54956381, 11.60309571,\n",
              "       25.18096558,  6.86768016])"
            ]
          },
          "metadata": {},
          "execution_count": 47
        }
      ]
    },
    {
      "cell_type": "code",
      "source": [
        "metrics2 = metrics(y_test,pred2)"
      ],
      "metadata": {
        "colab": {
          "base_uri": "https://localhost:8080/"
        },
        "id": "3OCfflj89b4U",
        "outputId": "78c8f6d1-740d-4175-ef39-a37ad8dae215"
      },
      "execution_count": 48,
      "outputs": [
        {
          "output_type": "stream",
          "name": "stdout",
          "text": [
            "0.6662848917640671\n",
            "3.3403173688410983\n"
          ]
        }
      ]
    },
    {
      "cell_type": "code",
      "source": [
        "from sklearn.linear_model import Lasso\n",
        "\n",
        "lasso = Lasso(alpha = 1, selection = 'cyclic')\n",
        "lasso.fit(X_train, y_train)\n",
        "pred4 = lasso.predict(X_test)"
      ],
      "metadata": {
        "id": "MtGHEVcj9hdc"
      },
      "execution_count": 55,
      "outputs": []
    },
    {
      "cell_type": "code",
      "source": [
        "metrics4 = metrics(y_test, pred4)"
      ],
      "metadata": {
        "colab": {
          "base_uri": "https://localhost:8080/"
        },
        "id": "jr_93YnO-Ry5",
        "outputId": "e050ab6f-2885-47e5-a85e-6af0573318a7"
      },
      "execution_count": 56,
      "outputs": [
        {
          "output_type": "stream",
          "name": "stdout",
          "text": [
            "0.5346967811565366\n",
            "4.060631691435414\n"
          ]
        }
      ]
    },
    {
      "cell_type": "code",
      "source": [
        "from sklearn.linear_model import ElasticNet\n",
        "\n",
        "model4 = ElasticNet()\n",
        "parameters = {'alpha':[0.5,1,1.5,5,10],\n",
        "              'l1_ratio':[0.4,0.5,0.6,0.8],\n",
        "              'selection':['random','cyclic']}\n",
        "model4 = GridSearchCV(model4, parameters, cv = 5, verbose = 4)\n",
        "model4.fit(X_train, y_train)"
      ],
      "metadata": {
        "colab": {
          "base_uri": "https://localhost:8080/"
        },
        "id": "REiRBg4L-utx",
        "outputId": "6b8b8aee-4dd2-46b0-8139-843c7f404ddd"
      },
      "execution_count": 60,
      "outputs": [
        {
          "output_type": "stream",
          "name": "stdout",
          "text": [
            "Fitting 5 folds for each of 40 candidates, totalling 200 fits\n",
            "[CV 1/5] END alpha=0.5, l1_ratio=0.4, selection=random;, score=0.754 total time=   0.0s\n",
            "[CV 2/5] END alpha=0.5, l1_ratio=0.4, selection=random;, score=0.714 total time=   0.0s\n",
            "[CV 3/5] END alpha=0.5, l1_ratio=0.4, selection=random;, score=0.686 total time=   0.0s\n",
            "[CV 4/5] END alpha=0.5, l1_ratio=0.4, selection=random;, score=0.511 total time=   0.0s\n",
            "[CV 5/5] END alpha=0.5, l1_ratio=0.4, selection=random;, score=0.721 total time=   0.0s\n",
            "[CV 1/5] END alpha=0.5, l1_ratio=0.4, selection=cyclic;, score=0.754 total time=   0.0s\n",
            "[CV 2/5] END alpha=0.5, l1_ratio=0.4, selection=cyclic;, score=0.714 total time=   0.0s\n",
            "[CV 3/5] END alpha=0.5, l1_ratio=0.4, selection=cyclic;, score=0.686 total time=   0.0s\n",
            "[CV 4/5] END alpha=0.5, l1_ratio=0.4, selection=cyclic;, score=0.511 total time=   0.0s\n",
            "[CV 5/5] END alpha=0.5, l1_ratio=0.4, selection=cyclic;, score=0.721 total time=   0.0s\n",
            "[CV 1/5] END alpha=0.5, l1_ratio=0.5, selection=random;, score=0.754 total time=   0.0s\n",
            "[CV 2/5] END alpha=0.5, l1_ratio=0.5, selection=random;, score=0.715 total time=   0.0s\n",
            "[CV 3/5] END alpha=0.5, l1_ratio=0.5, selection=random;, score=0.687 total time=   0.0s\n",
            "[CV 4/5] END alpha=0.5, l1_ratio=0.5, selection=random;, score=0.509 total time=   0.0s\n",
            "[CV 5/5] END alpha=0.5, l1_ratio=0.5, selection=random;, score=0.722 total time=   0.0s\n",
            "[CV 1/5] END alpha=0.5, l1_ratio=0.5, selection=cyclic;, score=0.754 total time=   0.0s\n",
            "[CV 2/5] END alpha=0.5, l1_ratio=0.5, selection=cyclic;, score=0.715 total time=   0.0s\n",
            "[CV 3/5] END alpha=0.5, l1_ratio=0.5, selection=cyclic;, score=0.687 total time=   0.0s\n",
            "[CV 4/5] END alpha=0.5, l1_ratio=0.5, selection=cyclic;, score=0.509 total time=   0.0s\n",
            "[CV 5/5] END alpha=0.5, l1_ratio=0.5, selection=cyclic;, score=0.722 total time=   0.0s\n",
            "[CV 1/5] END alpha=0.5, l1_ratio=0.6, selection=random;, score=0.755 total time=   0.0s\n",
            "[CV 2/5] END alpha=0.5, l1_ratio=0.6, selection=random;, score=0.715 total time=   0.0s\n",
            "[CV 3/5] END alpha=0.5, l1_ratio=0.6, selection=random;, score=0.687 total time=   0.0s\n",
            "[CV 4/5] END alpha=0.5, l1_ratio=0.6, selection=random;, score=0.507 total time=   0.0s\n",
            "[CV 5/5] END alpha=0.5, l1_ratio=0.6, selection=random;, score=0.723 total time=   0.0s\n",
            "[CV 1/5] END alpha=0.5, l1_ratio=0.6, selection=cyclic;, score=0.755 total time=   0.0s\n",
            "[CV 2/5] END alpha=0.5, l1_ratio=0.6, selection=cyclic;, score=0.715 total time=   0.0s\n",
            "[CV 3/5] END alpha=0.5, l1_ratio=0.6, selection=cyclic;, score=0.687 total time=   0.0s\n",
            "[CV 4/5] END alpha=0.5, l1_ratio=0.6, selection=cyclic;, score=0.507 total time=   0.0s\n",
            "[CV 5/5] END alpha=0.5, l1_ratio=0.6, selection=cyclic;, score=0.723 total time=   0.0s\n",
            "[CV 1/5] END alpha=0.5, l1_ratio=0.8, selection=random;, score=0.757 total time=   0.0s\n",
            "[CV 2/5] END alpha=0.5, l1_ratio=0.8, selection=random;, score=0.717 total time=   0.0s\n",
            "[CV 3/5] END alpha=0.5, l1_ratio=0.8, selection=random;, score=0.689 total time=   0.0s\n",
            "[CV 4/5] END alpha=0.5, l1_ratio=0.8, selection=random;, score=0.500 total time=   0.0s\n",
            "[CV 5/5] END alpha=0.5, l1_ratio=0.8, selection=random;, score=0.724 total time=   0.0s\n",
            "[CV 1/5] END alpha=0.5, l1_ratio=0.8, selection=cyclic;, score=0.757 total time=   0.0s\n",
            "[CV 2/5] END alpha=0.5, l1_ratio=0.8, selection=cyclic;, score=0.717 total time=   0.0s\n",
            "[CV 3/5] END alpha=0.5, l1_ratio=0.8, selection=cyclic;, score=0.689 total time=   0.0s\n",
            "[CV 4/5] END alpha=0.5, l1_ratio=0.8, selection=cyclic;, score=0.500 total time=   0.0s\n",
            "[CV 5/5] END alpha=0.5, l1_ratio=0.8, selection=cyclic;, score=0.724 total time=   0.0s\n",
            "[CV 1/5] END alpha=1, l1_ratio=0.4, selection=random;, score=0.740 total time=   0.0s\n",
            "[CV 2/5] END alpha=1, l1_ratio=0.4, selection=random;, score=0.697 total time=   0.0s\n",
            "[CV 3/5] END alpha=1, l1_ratio=0.4, selection=random;, score=0.669 total time=   0.0s\n",
            "[CV 4/5] END alpha=1, l1_ratio=0.4, selection=random;, score=0.514 total time=   0.0s\n",
            "[CV 5/5] END alpha=1, l1_ratio=0.4, selection=random;, score=0.705 total time=   0.0s\n",
            "[CV 1/5] END alpha=1, l1_ratio=0.4, selection=cyclic;, score=0.740 total time=   0.0s\n",
            "[CV 2/5] END alpha=1, l1_ratio=0.4, selection=cyclic;, score=0.697 total time=   0.0s\n",
            "[CV 3/5] END alpha=1, l1_ratio=0.4, selection=cyclic;, score=0.669 total time=   0.0s\n",
            "[CV 4/5] END alpha=1, l1_ratio=0.4, selection=cyclic;, score=0.514 total time=   0.0s\n",
            "[CV 5/5] END alpha=1, l1_ratio=0.4, selection=cyclic;, score=0.705 total time=   0.0s\n",
            "[CV 1/5] END alpha=1, l1_ratio=0.5, selection=random;, score=0.740 total time=   0.0s\n",
            "[CV 2/5] END alpha=1, l1_ratio=0.5, selection=random;, score=0.696 total time=   0.0s\n",
            "[CV 3/5] END alpha=1, l1_ratio=0.5, selection=random;, score=0.668 total time=   0.0s\n",
            "[CV 4/5] END alpha=1, l1_ratio=0.5, selection=random;, score=0.514 total time=   0.0s\n",
            "[CV 5/5] END alpha=1, l1_ratio=0.5, selection=random;, score=0.704 total time=   0.0s\n",
            "[CV 1/5] END alpha=1, l1_ratio=0.5, selection=cyclic;, score=0.740 total time=   0.0s\n",
            "[CV 2/5] END alpha=1, l1_ratio=0.5, selection=cyclic;, score=0.696 total time=   0.0s\n",
            "[CV 3/5] END alpha=1, l1_ratio=0.5, selection=cyclic;, score=0.668 total time=   0.0s\n",
            "[CV 4/5] END alpha=1, l1_ratio=0.5, selection=cyclic;, score=0.514 total time=   0.0s\n",
            "[CV 5/5] END alpha=1, l1_ratio=0.5, selection=cyclic;, score=0.704 total time=   0.0s\n",
            "[CV 1/5] END alpha=1, l1_ratio=0.6, selection=random;, score=0.739 total time=   0.0s\n",
            "[CV 2/5] END alpha=1, l1_ratio=0.6, selection=random;, score=0.694 total time=   0.0s\n",
            "[CV 3/5] END alpha=1, l1_ratio=0.6, selection=random;, score=0.666 total time=   0.0s\n",
            "[CV 4/5] END alpha=1, l1_ratio=0.6, selection=random;, score=0.513 total time=   0.0s\n",
            "[CV 5/5] END alpha=1, l1_ratio=0.6, selection=random;, score=0.703 total time=   0.0s\n",
            "[CV 1/5] END alpha=1, l1_ratio=0.6, selection=cyclic;, score=0.739 total time=   0.0s\n",
            "[CV 2/5] END alpha=1, l1_ratio=0.6, selection=cyclic;, score=0.694 total time=   0.0s\n",
            "[CV 3/5] END alpha=1, l1_ratio=0.6, selection=cyclic;, score=0.666 total time=   0.0s\n",
            "[CV 4/5] END alpha=1, l1_ratio=0.6, selection=cyclic;, score=0.513 total time=   0.0s\n",
            "[CV 5/5] END alpha=1, l1_ratio=0.6, selection=cyclic;, score=0.703 total time=   0.0s\n",
            "[CV 1/5] END alpha=1, l1_ratio=0.8, selection=random;, score=0.736 total time=   0.0s\n",
            "[CV 2/5] END alpha=1, l1_ratio=0.8, selection=random;, score=0.689 total time=   0.0s\n",
            "[CV 3/5] END alpha=1, l1_ratio=0.8, selection=random;, score=0.662 total time=   0.0s\n",
            "[CV 4/5] END alpha=1, l1_ratio=0.8, selection=random;, score=0.510 total time=   0.0s\n",
            "[CV 5/5] END alpha=1, l1_ratio=0.8, selection=random;, score=0.700 total time=   0.0s\n",
            "[CV 1/5] END alpha=1, l1_ratio=0.8, selection=cyclic;, score=0.736 total time=   0.0s\n",
            "[CV 2/5] END alpha=1, l1_ratio=0.8, selection=cyclic;, score=0.689 total time=   0.0s\n",
            "[CV 3/5] END alpha=1, l1_ratio=0.8, selection=cyclic;, score=0.662 total time=   0.0s\n",
            "[CV 4/5] END alpha=1, l1_ratio=0.8, selection=cyclic;, score=0.510 total time=   0.0s\n",
            "[CV 5/5] END alpha=1, l1_ratio=0.8, selection=cyclic;, score=0.700 total time=   0.0s\n",
            "[CV 1/5] END alpha=1.5, l1_ratio=0.4, selection=random;, score=0.729 total time=   0.0s\n",
            "[CV 2/5] END alpha=1.5, l1_ratio=0.4, selection=random;, score=0.683 total time=   0.0s\n",
            "[CV 3/5] END alpha=1.5, l1_ratio=0.4, selection=random;, score=0.657 total time=   0.0s\n",
            "[CV 4/5] END alpha=1.5, l1_ratio=0.4, selection=random;, score=0.510 total time=   0.0s\n",
            "[CV 5/5] END alpha=1.5, l1_ratio=0.4, selection=random;, score=0.692 total time=   0.0s\n",
            "[CV 1/5] END alpha=1.5, l1_ratio=0.4, selection=cyclic;, score=0.729 total time=   0.0s\n",
            "[CV 2/5] END alpha=1.5, l1_ratio=0.4, selection=cyclic;, score=0.683 total time=   0.0s\n",
            "[CV 3/5] END alpha=1.5, l1_ratio=0.4, selection=cyclic;, score=0.657 total time=   0.0s\n",
            "[CV 4/5] END alpha=1.5, l1_ratio=0.4, selection=cyclic;, score=0.510 total time=   0.0s\n",
            "[CV 5/5] END alpha=1.5, l1_ratio=0.4, selection=cyclic;, score=0.692 total time=   0.0s\n",
            "[CV 1/5] END alpha=1.5, l1_ratio=0.5, selection=random;, score=0.727 total time=   0.0s\n",
            "[CV 2/5] END alpha=1.5, l1_ratio=0.5, selection=random;, score=0.679 total time=   0.0s\n",
            "[CV 3/5] END alpha=1.5, l1_ratio=0.5, selection=random;, score=0.654 total time=   0.0s\n",
            "[CV 4/5] END alpha=1.5, l1_ratio=0.5, selection=random;, score=0.508 total time=   0.0s\n",
            "[CV 5/5] END alpha=1.5, l1_ratio=0.5, selection=random;, score=0.689 total time=   0.0s\n",
            "[CV 1/5] END alpha=1.5, l1_ratio=0.5, selection=cyclic;, score=0.727 total time=   0.0s\n",
            "[CV 2/5] END alpha=1.5, l1_ratio=0.5, selection=cyclic;, score=0.679 total time=   0.0s\n",
            "[CV 3/5] END alpha=1.5, l1_ratio=0.5, selection=cyclic;, score=0.654 total time=   0.0s\n",
            "[CV 4/5] END alpha=1.5, l1_ratio=0.5, selection=cyclic;, score=0.508 total time=   0.0s\n",
            "[CV 5/5] END alpha=1.5, l1_ratio=0.5, selection=cyclic;, score=0.689 total time=   0.0s\n",
            "[CV 1/5] END alpha=1.5, l1_ratio=0.6, selection=random;, score=0.724 total time=   0.0s\n",
            "[CV 2/5] END alpha=1.5, l1_ratio=0.6, selection=random;, score=0.675 total time=   0.0s\n",
            "[CV 3/5] END alpha=1.5, l1_ratio=0.6, selection=random;, score=0.650 total time=   0.0s\n",
            "[CV 4/5] END alpha=1.5, l1_ratio=0.6, selection=random;, score=0.507 total time=   0.0s\n",
            "[CV 5/5] END alpha=1.5, l1_ratio=0.6, selection=random;, score=0.685 total time=   0.0s\n",
            "[CV 1/5] END alpha=1.5, l1_ratio=0.6, selection=cyclic;, score=0.724 total time=   0.0s\n",
            "[CV 2/5] END alpha=1.5, l1_ratio=0.6, selection=cyclic;, score=0.675 total time=   0.0s\n",
            "[CV 3/5] END alpha=1.5, l1_ratio=0.6, selection=cyclic;, score=0.650 total time=   0.0s\n",
            "[CV 4/5] END alpha=1.5, l1_ratio=0.6, selection=cyclic;, score=0.507 total time=   0.0s\n",
            "[CV 5/5] END alpha=1.5, l1_ratio=0.6, selection=cyclic;, score=0.685 total time=   0.0s\n",
            "[CV 1/5] END alpha=1.5, l1_ratio=0.8, selection=random;, score=0.715 total time=   0.0s\n",
            "[CV 2/5] END alpha=1.5, l1_ratio=0.8, selection=random;, score=0.664 total time=   0.0s\n",
            "[CV 3/5] END alpha=1.5, l1_ratio=0.8, selection=random;, score=0.638 total time=   0.0s\n",
            "[CV 4/5] END alpha=1.5, l1_ratio=0.8, selection=random;, score=0.502 total time=   0.0s\n",
            "[CV 5/5] END alpha=1.5, l1_ratio=0.8, selection=random;, score=0.675 total time=   0.0s\n",
            "[CV 1/5] END alpha=1.5, l1_ratio=0.8, selection=cyclic;, score=0.715 total time=   0.0s\n",
            "[CV 2/5] END alpha=1.5, l1_ratio=0.8, selection=cyclic;, score=0.664 total time=   0.0s\n",
            "[CV 3/5] END alpha=1.5, l1_ratio=0.8, selection=cyclic;, score=0.638 total time=   0.0s\n",
            "[CV 4/5] END alpha=1.5, l1_ratio=0.8, selection=cyclic;, score=0.502 total time=   0.0s\n",
            "[CV 5/5] END alpha=1.5, l1_ratio=0.8, selection=cyclic;, score=0.675 total time=   0.0s\n",
            "[CV 1/5] END alpha=5, l1_ratio=0.4, selection=random;, score=0.667 total time=   0.0s\n",
            "[CV 2/5] END alpha=5, l1_ratio=0.4, selection=random;, score=0.606 total time=   0.0s\n",
            "[CV 3/5] END alpha=5, l1_ratio=0.4, selection=random;, score=0.606 total time=   0.0s\n",
            "[CV 4/5] END alpha=5, l1_ratio=0.4, selection=random;, score=0.460 total time=   0.0s\n",
            "[CV 5/5] END alpha=5, l1_ratio=0.4, selection=random;, score=0.623 total time=   0.0s\n",
            "[CV 1/5] END alpha=5, l1_ratio=0.4, selection=cyclic;, score=0.667 total time=   0.0s\n",
            "[CV 2/5] END alpha=5, l1_ratio=0.4, selection=cyclic;, score=0.606 total time=   0.0s\n",
            "[CV 3/5] END alpha=5, l1_ratio=0.4, selection=cyclic;, score=0.606 total time=   0.0s\n",
            "[CV 4/5] END alpha=5, l1_ratio=0.4, selection=cyclic;, score=0.460 total time=   0.0s\n",
            "[CV 5/5] END alpha=5, l1_ratio=0.4, selection=cyclic;, score=0.623 total time=   0.0s\n",
            "[CV 1/5] END alpha=5, l1_ratio=0.5, selection=random;, score=0.658 total time=   0.0s\n",
            "[CV 2/5] END alpha=5, l1_ratio=0.5, selection=random;, score=0.596 total time=   0.0s\n",
            "[CV 3/5] END alpha=5, l1_ratio=0.5, selection=random;, score=0.597 total time=   0.0s\n",
            "[CV 4/5] END alpha=5, l1_ratio=0.5, selection=random;, score=0.447 total time=   0.0s\n",
            "[CV 5/5] END alpha=5, l1_ratio=0.5, selection=random;, score=0.616 total time=   0.0s\n",
            "[CV 1/5] END alpha=5, l1_ratio=0.5, selection=cyclic;, score=0.658 total time=   0.0s\n",
            "[CV 2/5] END alpha=5, l1_ratio=0.5, selection=cyclic;, score=0.596 total time=   0.0s\n",
            "[CV 3/5] END alpha=5, l1_ratio=0.5, selection=cyclic;, score=0.597 total time=   0.0s\n",
            "[CV 4/5] END alpha=5, l1_ratio=0.5, selection=cyclic;, score=0.447 total time=   0.0s\n",
            "[CV 5/5] END alpha=5, l1_ratio=0.5, selection=cyclic;, score=0.616 total time=   0.0s\n",
            "[CV 1/5] END alpha=5, l1_ratio=0.6, selection=random;, score=0.649 total time=   0.0s\n",
            "[CV 2/5] END alpha=5, l1_ratio=0.6, selection=random;, score=0.586 total time=   0.0s\n",
            "[CV 3/5] END alpha=5, l1_ratio=0.6, selection=random;, score=0.588 total time=   0.0s\n",
            "[CV 4/5] END alpha=5, l1_ratio=0.6, selection=random;, score=0.436 total time=   0.0s\n",
            "[CV 5/5] END alpha=5, l1_ratio=0.6, selection=random;, score=0.609 total time=   0.0s\n",
            "[CV 1/5] END alpha=5, l1_ratio=0.6, selection=cyclic;, score=0.649 total time=   0.0s\n",
            "[CV 2/5] END alpha=5, l1_ratio=0.6, selection=cyclic;, score=0.586 total time=   0.0s\n",
            "[CV 3/5] END alpha=5, l1_ratio=0.6, selection=cyclic;, score=0.588 total time=   0.0s\n",
            "[CV 4/5] END alpha=5, l1_ratio=0.6, selection=cyclic;, score=0.436 total time=   0.0s\n",
            "[CV 5/5] END alpha=5, l1_ratio=0.6, selection=cyclic;, score=0.608 total time=   0.0s\n",
            "[CV 1/5] END alpha=5, l1_ratio=0.8, selection=random;, score=0.625 total time=   0.0s\n",
            "[CV 2/5] END alpha=5, l1_ratio=0.8, selection=random;, score=0.567 total time=   0.0s\n",
            "[CV 3/5] END alpha=5, l1_ratio=0.8, selection=random;, score=0.570 total time=   0.0s\n",
            "[CV 4/5] END alpha=5, l1_ratio=0.8, selection=random;, score=0.410 total time=   0.0s\n",
            "[CV 5/5] END alpha=5, l1_ratio=0.8, selection=random;, score=0.590 total time=   0.0s\n",
            "[CV 1/5] END alpha=5, l1_ratio=0.8, selection=cyclic;, score=0.625 total time=   0.0s\n",
            "[CV 2/5] END alpha=5, l1_ratio=0.8, selection=cyclic;, score=0.567 total time=   0.0s\n",
            "[CV 3/5] END alpha=5, l1_ratio=0.8, selection=cyclic;, score=0.570 total time=   0.0s\n",
            "[CV 4/5] END alpha=5, l1_ratio=0.8, selection=cyclic;, score=0.410 total time=   0.0s\n",
            "[CV 5/5] END alpha=5, l1_ratio=0.8, selection=cyclic;, score=0.590 total time=   0.0s\n",
            "[CV 1/5] END alpha=10, l1_ratio=0.4, selection=random;, score=0.605 total time=   0.0s\n",
            "[CV 2/5] END alpha=10, l1_ratio=0.4, selection=random;, score=0.542 total time=   0.0s\n",
            "[CV 3/5] END alpha=10, l1_ratio=0.4, selection=random;, score=0.564 total time=   0.0s\n",
            "[CV 4/5] END alpha=10, l1_ratio=0.4, selection=random;, score=0.410 total time=   0.0s\n",
            "[CV 5/5] END alpha=10, l1_ratio=0.4, selection=random;, score=0.555 total time=   0.0s\n",
            "[CV 1/5] END alpha=10, l1_ratio=0.4, selection=cyclic;, score=0.604 total time=   0.0s\n",
            "[CV 2/5] END alpha=10, l1_ratio=0.4, selection=cyclic;, score=0.542 total time=   0.0s\n",
            "[CV 3/5] END alpha=10, l1_ratio=0.4, selection=cyclic;, score=0.564 total time=   0.0s\n",
            "[CV 4/5] END alpha=10, l1_ratio=0.4, selection=cyclic;, score=0.410 total time=   0.0s\n",
            "[CV 5/5] END alpha=10, l1_ratio=0.4, selection=cyclic;, score=0.555 total time=   0.0s\n",
            "[CV 1/5] END alpha=10, l1_ratio=0.5, selection=random;, score=0.601 total time=   0.0s\n",
            "[CV 2/5] END alpha=10, l1_ratio=0.5, selection=random;, score=0.535 total time=   0.0s\n",
            "[CV 3/5] END alpha=10, l1_ratio=0.5, selection=random;, score=0.557 total time=   0.0s\n",
            "[CV 4/5] END alpha=10, l1_ratio=0.5, selection=random;, score=0.401 total time=   0.0s\n",
            "[CV 5/5] END alpha=10, l1_ratio=0.5, selection=random;, score=0.546 total time=   0.0s\n",
            "[CV 1/5] END alpha=10, l1_ratio=0.5, selection=cyclic;, score=0.601 total time=   0.0s\n",
            "[CV 2/5] END alpha=10, l1_ratio=0.5, selection=cyclic;, score=0.535 total time=   0.0s\n",
            "[CV 3/5] END alpha=10, l1_ratio=0.5, selection=cyclic;, score=0.557 total time=   0.0s\n",
            "[CV 4/5] END alpha=10, l1_ratio=0.5, selection=cyclic;, score=0.401 total time=   0.0s\n",
            "[CV 5/5] END alpha=10, l1_ratio=0.5, selection=cyclic;, score=0.546 total time=   0.0s\n",
            "[CV 1/5] END alpha=10, l1_ratio=0.6, selection=random;, score=0.598 total time=   0.0s\n",
            "[CV 2/5] END alpha=10, l1_ratio=0.6, selection=random;, score=0.531 total time=   0.0s\n",
            "[CV 3/5] END alpha=10, l1_ratio=0.6, selection=random;, score=0.554 total time=   0.0s\n",
            "[CV 4/5] END alpha=10, l1_ratio=0.6, selection=random;, score=0.400 total time=   0.0s\n",
            "[CV 5/5] END alpha=10, l1_ratio=0.6, selection=random;, score=0.541 total time=   0.0s\n",
            "[CV 1/5] END alpha=10, l1_ratio=0.6, selection=cyclic;, score=0.598 total time=   0.0s\n",
            "[CV 2/5] END alpha=10, l1_ratio=0.6, selection=cyclic;, score=0.531 total time=   0.0s\n",
            "[CV 3/5] END alpha=10, l1_ratio=0.6, selection=cyclic;, score=0.554 total time=   0.0s\n",
            "[CV 4/5] END alpha=10, l1_ratio=0.6, selection=cyclic;, score=0.400 total time=   0.0s\n",
            "[CV 5/5] END alpha=10, l1_ratio=0.6, selection=cyclic;, score=0.541 total time=   0.0s\n",
            "[CV 1/5] END alpha=10, l1_ratio=0.8, selection=random;, score=0.590 total time=   0.0s\n",
            "[CV 2/5] END alpha=10, l1_ratio=0.8, selection=random;, score=0.521 total time=   0.0s\n",
            "[CV 3/5] END alpha=10, l1_ratio=0.8, selection=random;, score=0.549 total time=   0.0s\n",
            "[CV 4/5] END alpha=10, l1_ratio=0.8, selection=random;, score=0.397 total time=   0.0s\n",
            "[CV 5/5] END alpha=10, l1_ratio=0.8, selection=random;, score=0.529 total time=   0.0s\n",
            "[CV 1/5] END alpha=10, l1_ratio=0.8, selection=cyclic;, score=0.590 total time=   0.0s\n",
            "[CV 2/5] END alpha=10, l1_ratio=0.8, selection=cyclic;, score=0.521 total time=   0.0s\n",
            "[CV 3/5] END alpha=10, l1_ratio=0.8, selection=cyclic;, score=0.549 total time=   0.0s\n",
            "[CV 4/5] END alpha=10, l1_ratio=0.8, selection=cyclic;, score=0.397 total time=   0.0s\n",
            "[CV 5/5] END alpha=10, l1_ratio=0.8, selection=cyclic;, score=0.529 total time=   0.0s\n"
          ]
        },
        {
          "output_type": "execute_result",
          "data": {
            "text/plain": [
              "GridSearchCV(cv=5, estimator=ElasticNet(),\n",
              "             param_grid={'alpha': [0.5, 1, 1.5, 5, 10],\n",
              "                         'l1_ratio': [0.4, 0.5, 0.6, 0.8],\n",
              "                         'selection': ['random', 'cyclic']},\n",
              "             verbose=4)"
            ]
          },
          "metadata": {},
          "execution_count": 60
        }
      ]
    },
    {
      "cell_type": "code",
      "source": [
        "model4.best_params_, model4.best_score_"
      ],
      "metadata": {
        "colab": {
          "base_uri": "https://localhost:8080/"
        },
        "id": "S3fKxh49_A-0",
        "outputId": "9a3a9532-c872-4187-d08a-ef9fcf2a929d"
      },
      "execution_count": 63,
      "outputs": [
        {
          "output_type": "execute_result",
          "data": {
            "text/plain": [
              "({'alpha': 0.5, 'l1_ratio': 0.8, 'selection': 'cyclic'}, 0.6774930487857063)"
            ]
          },
          "metadata": {},
          "execution_count": 63
        }
      ]
    },
    {
      "cell_type": "code",
      "source": [
        "en = ElasticNet(alpha = 0.005, l1_ratio = 0.8, selection = 'cyclic')\n",
        "en.fit(X_train, y_train)\n",
        "pred5 = en.predict(X_test)"
      ],
      "metadata": {
        "id": "n7sUNWWI_8RB"
      },
      "execution_count": 68,
      "outputs": []
    },
    {
      "cell_type": "code",
      "source": [
        "metrics5 = metrics(y_test, pred5)"
      ],
      "metadata": {
        "colab": {
          "base_uri": "https://localhost:8080/"
        },
        "id": "ZHNgvJnqARgr",
        "outputId": "c5224b45-6def-4a2b-9524-a8efb6725da6"
      },
      "execution_count": 69,
      "outputs": [
        {
          "output_type": "stream",
          "name": "stdout",
          "text": [
            "0.6639395669407393\n",
            "3.330698540084395\n"
          ]
        }
      ]
    },
    {
      "cell_type": "code",
      "source": [
        ""
      ],
      "metadata": {
        "id": "9NHO1oghAVpf"
      },
      "execution_count": null,
      "outputs": []
    }
  ]
}